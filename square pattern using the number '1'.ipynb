{
  "nbformat": 4,
  "nbformat_minor": 0,
  "metadata": {
    "colab": {
      "provenance": [],
      "authorship_tag": "ABX9TyP4Rfecb5B17kinnK7C2gxG",
      "include_colab_link": true
    },
    "kernelspec": {
      "name": "python3",
      "display_name": "Python 3"
    },
    "language_info": {
      "name": "python"
    }
  },
  "cells": [
    {
      "cell_type": "markdown",
      "metadata": {
        "id": "view-in-github",
        "colab_type": "text"
      },
      "source": [
        "<a href=\"https://colab.research.google.com/github/Parthiban-Tmn/Python_Exercises/blob/master/square%20pattern%20using%20the%20number%20'1'.ipynb\" target=\"_parent\"><img src=\"https://colab.research.google.com/assets/colab-badge.svg\" alt=\"Open In Colab\"/></a>"
      ]
    },
    {
      "cell_type": "markdown",
      "source": [
        "Write a code to generate a square pattern using the number '1'.\n",
        "\n",
        "Input Description:\n",
        "Given an integer R indicates number of rows.\n",
        "\n",
        "Where 1<=R<=100.\n",
        "\n",
        "Output Description:\n",
        "Print the square pattern with the number '1' in R*R form based on the given integer R.\n",
        "\n",
        "Sample Input :\n",
        "5\n",
        "\n",
        "\n",
        "Sample Output :\n",
        "11111\n",
        "11111\n",
        "11111\n",
        "11111\n",
        "11111"
      ],
      "metadata": {
        "id": "do-L7bouIdtR"
      }
    },
    {
      "cell_type": "code",
      "source": [
        "n=int(input())\n",
        "for i in range(n):\n",
        "    for i in range(n):\n",
        "        print(1,end=\"\")\n",
        "    print()"
      ],
      "metadata": {
        "colab": {
          "base_uri": "https://localhost:8080/"
        },
        "id": "6hamPmZ-IaU6",
        "outputId": "861a34f0-38af-4cc3-db64-9518e3be97b7"
      },
      "execution_count": 1,
      "outputs": [
        {
          "output_type": "stream",
          "name": "stdout",
          "text": [
            "5\n",
            "11111\n",
            "11111\n",
            "11111\n",
            "11111\n",
            "11111\n"
          ]
        }
      ]
    },
    {
      "cell_type": "code",
      "source": [],
      "metadata": {
        "id": "sWLcLR_XIaXn"
      },
      "execution_count": null,
      "outputs": []
    }
  ]
}